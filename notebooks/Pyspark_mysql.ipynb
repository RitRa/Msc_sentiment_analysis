{
 "cells": [
  {
   "cell_type": "code",
   "execution_count": 46,
   "id": "55c2fd2e",
   "metadata": {},
   "outputs": [
    {
     "name": "stdout",
     "output_type": "stream",
     "text": [
      "Defaulting to user installation because normal site-packages is not writeable\n",
      "Requirement already satisfied: mysql-connector-python in /home/hduser/.local/lib/python3.10/site-packages (8.0.31)\n",
      "Requirement already satisfied: protobuf<=3.20.1,>=3.11.0 in /usr/lib/python3/dist-packages (from mysql-connector-python) (3.12.4)\n",
      "Note: you may need to restart the kernel to use updated packages.\n"
     ]
    }
   ],
   "source": [
    "pip install mysql-connector-python"
   ]
  },
  {
   "cell_type": "code",
   "execution_count": 1,
   "id": "43567687",
   "metadata": {},
   "outputs": [],
   "source": [
    "import mysql.connector\n",
    "import pandas as pd\n",
    "from pyspark.sql import SparkSession\n",
    "\n",
    "appName=\"Pyspark and mysql\"\n",
    "master = \"local\"\n",
    "\n",
    "\n",
    "spark = SparkSession.builder.master(\"local\").appName(\"PySpark_MySQL_test\").getOrCreate()\n",
    "\n",
    "conn = mysql.connector.connect(user=\"root\", password =\"password\",\n",
    "                              database=\"BenchTest\",host=\"localhost\", port= \"3306\")\n",
    "\n",
    "cursor = conn.cursor\n",
    "\n",
    "spark.sparkContext.setLogLevel('Error')"
   ]
  },
  {
   "cell_type": "code",
   "execution_count": 2,
   "id": "24d64316",
   "metadata": {},
   "outputs": [],
   "source": [
    "query = 'SELECT * from uk_tweets_like2'"
   ]
  },
  {
   "cell_type": "code",
   "execution_count": 3,
   "id": "1995710a",
   "metadata": {},
   "outputs": [
    {
     "name": "stderr",
     "output_type": "stream",
     "text": [
      "/tmp/ipykernel_4717/2975385224.py:1: UserWarning: pandas only supports SQLAlchemy connectable (engine/connection) or database string URI or sqlite3 DBAPI2 connection. Other DBAPI2 objects are not tested. Please consider using SQLAlchemy.\n",
      "  pdf = pd.read_sql(query, con=conn)\n"
     ]
    }
   ],
   "source": [
    "pdf = pd.read_sql(query, con=conn)"
   ]
  },
  {
   "cell_type": "code",
   "execution_count": 4,
   "id": "11b1b790",
   "metadata": {},
   "outputs": [],
   "source": [
    "conn.close()"
   ]
  },
  {
   "cell_type": "code",
   "execution_count": 5,
   "id": "29cb19a6",
   "metadata": {},
   "outputs": [
    {
     "name": "stderr",
     "output_type": "stream",
     "text": [
      "/usr/local/spark/python/pyspark/sql/pandas/conversion.py:331: FutureWarning: iteritems is deprecated and will be removed in a future version. Use .items instead.\n",
      "  for column, series in pdf.iteritems():\n"
     ]
    }
   ],
   "source": [
    "df =spark.createDataFrame(pdf)"
   ]
  },
  {
   "cell_type": "code",
   "execution_count": 6,
   "id": "ac82e74f",
   "metadata": {},
   "outputs": [
    {
     "name": "stderr",
     "output_type": "stream",
     "text": [
      "                                                                                \r"
     ]
    },
    {
     "name": "stdout",
     "output_type": "stream",
     "text": [
      "+---+--------------------+-------------------+--------------------+-------------+------------+---------+--------------------+\n",
      "| id|            Datetime|           Tweet ID|                Text|     Username|retweetCount|likeCount|            hashtags|\n",
      "+---+--------------------+-------------------+--------------------+-------------+------------+---------+--------------------+\n",
      "|  0|2021-10-22 23:47:...|1451696705175490568|@UKGovScotland Th...| starrybright|           0|        1|                    |\n",
      "|  1|2021-10-22 23:13:...|1451688249672536066|@VernonMackie4 @b...|IanDePendence|           3|        9|                    |\n",
      "|  2|2021-10-22 22:53:...|1451683065756098568|@Ride4Truth @supe...|  GasGilligan|           0|        1|['ToryAnalytica',...|\n",
      "|  3|2021-10-22 20:52:...|1451652808416145421|@CharlieHeron2 @R...|   gaolcuagam|           0|        0|                    |\n",
      "|  4|2021-10-22 20:38:...|1451649270994587655|@mgoldenmsp @Crai...|     jasd1314|           0|        2|['ScottishIndepen...|\n",
      "+---+--------------------+-------------------+--------------------+-------------+------------+---------+--------------------+\n",
      "only showing top 5 rows\n",
      "\n"
     ]
    }
   ],
   "source": [
    "df.show(5)"
   ]
  },
  {
   "cell_type": "code",
   "execution_count": 7,
   "id": "591043d5",
   "metadata": {},
   "outputs": [],
   "source": [
    "#dropping the unnecessary id column\n",
    "df = df.drop('id')"
   ]
  },
  {
   "cell_type": "code",
   "execution_count": 8,
   "id": "0e10e242",
   "metadata": {},
   "outputs": [
    {
     "name": "stderr",
     "output_type": "stream",
     "text": [
      "                                                                                \r"
     ]
    },
    {
     "data": {
      "text/html": [
       "<div>\n",
       "<style scoped>\n",
       "    .dataframe tbody tr th:only-of-type {\n",
       "        vertical-align: middle;\n",
       "    }\n",
       "\n",
       "    .dataframe tbody tr th {\n",
       "        vertical-align: top;\n",
       "    }\n",
       "\n",
       "    .dataframe thead th {\n",
       "        text-align: right;\n",
       "    }\n",
       "</style>\n",
       "<table border=\"1\" class=\"dataframe\">\n",
       "  <thead>\n",
       "    <tr style=\"text-align: right;\">\n",
       "      <th></th>\n",
       "      <th>Datetime</th>\n",
       "      <th>Tweet ID</th>\n",
       "      <th>Text</th>\n",
       "      <th>Username</th>\n",
       "      <th>retweetCount</th>\n",
       "      <th>likeCount</th>\n",
       "      <th>hashtags</th>\n",
       "    </tr>\n",
       "  </thead>\n",
       "  <tbody>\n",
       "    <tr>\n",
       "      <th>0</th>\n",
       "      <td>2021-10-22 23:47:20+00:00</td>\n",
       "      <td>1451696705175490568</td>\n",
       "      <td>@UKGovScotland They won’t see it unless UKGov ...</td>\n",
       "      <td>starrybright</td>\n",
       "      <td>0</td>\n",
       "      <td>1</td>\n",
       "      <td></td>\n",
       "    </tr>\n",
       "    <tr>\n",
       "      <th>1</th>\n",
       "      <td>2021-10-22 23:13:44+00:00</td>\n",
       "      <td>1451688249672536066</td>\n",
       "      <td>@VernonMackie4 @bilbo815 @NoToIndy1 @Phil7521 ...</td>\n",
       "      <td>IanDePendence</td>\n",
       "      <td>3</td>\n",
       "      <td>9</td>\n",
       "      <td></td>\n",
       "    </tr>\n",
       "    <tr>\n",
       "      <th>2</th>\n",
       "      <td>2021-10-22 22:53:08+00:00</td>\n",
       "      <td>1451683065756098568</td>\n",
       "      <td>@Ride4Truth @supertanskiii @irlembberlin @bpol...</td>\n",
       "      <td>GasGilligan</td>\n",
       "      <td>0</td>\n",
       "      <td>1</td>\n",
       "      <td>['ToryAnalytica', 'HostileEnvironment']</td>\n",
       "    </tr>\n",
       "    <tr>\n",
       "      <th>3</th>\n",
       "      <td>2021-10-22 20:52:54+00:00</td>\n",
       "      <td>1451652808416145421</td>\n",
       "      <td>@CharlieHeron2 @RedcliffeScott @KennyFarq Enga...</td>\n",
       "      <td>gaolcuagam</td>\n",
       "      <td>0</td>\n",
       "      <td>0</td>\n",
       "      <td></td>\n",
       "    </tr>\n",
       "    <tr>\n",
       "      <th>4</th>\n",
       "      <td>2021-10-22 20:38:51+00:00</td>\n",
       "      <td>1451649270994587655</td>\n",
       "      <td>@mgoldenmsp @CraigWHoy1 Yes it is what we expe...</td>\n",
       "      <td>jasd1314</td>\n",
       "      <td>0</td>\n",
       "      <td>2</td>\n",
       "      <td>['ScottishIndependence6']</td>\n",
       "    </tr>\n",
       "  </tbody>\n",
       "</table>\n",
       "</div>"
      ],
      "text/plain": [
       "                    Datetime             Tweet ID  \\\n",
       "0  2021-10-22 23:47:20+00:00  1451696705175490568   \n",
       "1  2021-10-22 23:13:44+00:00  1451688249672536066   \n",
       "2  2021-10-22 22:53:08+00:00  1451683065756098568   \n",
       "3  2021-10-22 20:52:54+00:00  1451652808416145421   \n",
       "4  2021-10-22 20:38:51+00:00  1451649270994587655   \n",
       "\n",
       "                                                Text       Username  \\\n",
       "0  @UKGovScotland They won’t see it unless UKGov ...   starrybright   \n",
       "1  @VernonMackie4 @bilbo815 @NoToIndy1 @Phil7521 ...  IanDePendence   \n",
       "2  @Ride4Truth @supertanskiii @irlembberlin @bpol...    GasGilligan   \n",
       "3  @CharlieHeron2 @RedcliffeScott @KennyFarq Enga...     gaolcuagam   \n",
       "4  @mgoldenmsp @CraigWHoy1 Yes it is what we expe...       jasd1314   \n",
       "\n",
       "   retweetCount  likeCount                                 hashtags  \n",
       "0             0          1                                           \n",
       "1             3          9                                           \n",
       "2             0          1  ['ToryAnalytica', 'HostileEnvironment']  \n",
       "3             0          0                                           \n",
       "4             0          2                ['ScottishIndependence6']  "
      ]
     },
     "execution_count": 8,
     "metadata": {},
     "output_type": "execute_result"
    }
   ],
   "source": [
    "df.toPandas().head(5)"
   ]
  },
  {
   "cell_type": "code",
   "execution_count": 9,
   "id": "dda0b31c",
   "metadata": {},
   "outputs": [
    {
     "name": "stderr",
     "output_type": "stream",
     "text": [
      "\r",
      "[Stage 2:>                                                          (0 + 1) / 1]\r",
      "\r",
      "                                                                                \r"
     ]
    },
    {
     "data": {
      "text/plain": [
       "Datetime        0\n",
       "Tweet ID        0\n",
       "Text            0\n",
       "Username        0\n",
       "retweetCount    0\n",
       "likeCount       0\n",
       "hashtags        0\n",
       "dtype: int64"
      ]
     },
     "execution_count": 9,
     "metadata": {},
     "output_type": "execute_result"
    }
   ],
   "source": [
    "# check for null values\n",
    "df.toPandas().isna().sum()"
   ]
  },
  {
   "cell_type": "code",
   "execution_count": 12,
   "id": "19d63b3a",
   "metadata": {
    "scrolled": true
   },
   "outputs": [
    {
     "name": "stderr",
     "output_type": "stream",
     "text": [
      "\r",
      "[Stage 4:>                                                          (0 + 1) / 1]\r",
      "\r",
      "                                                                                \r"
     ]
    },
    {
     "data": {
      "text/html": [
       "<div>\n",
       "<style scoped>\n",
       "    .dataframe tbody tr th:only-of-type {\n",
       "        vertical-align: middle;\n",
       "    }\n",
       "\n",
       "    .dataframe tbody tr th {\n",
       "        vertical-align: top;\n",
       "    }\n",
       "\n",
       "    .dataframe thead th {\n",
       "        text-align: right;\n",
       "    }\n",
       "</style>\n",
       "<table border=\"1\" class=\"dataframe\">\n",
       "  <thead>\n",
       "    <tr style=\"text-align: right;\">\n",
       "      <th></th>\n",
       "      <th>retweetCount</th>\n",
       "      <th>likeCount</th>\n",
       "    </tr>\n",
       "  </thead>\n",
       "  <tbody>\n",
       "    <tr>\n",
       "      <th>count</th>\n",
       "      <td>18666.000000</td>\n",
       "      <td>18666.000000</td>\n",
       "    </tr>\n",
       "    <tr>\n",
       "      <th>mean</th>\n",
       "      <td>1.461909</td>\n",
       "      <td>5.325190</td>\n",
       "    </tr>\n",
       "    <tr>\n",
       "      <th>std</th>\n",
       "      <td>14.927494</td>\n",
       "      <td>58.866758</td>\n",
       "    </tr>\n",
       "    <tr>\n",
       "      <th>min</th>\n",
       "      <td>0.000000</td>\n",
       "      <td>0.000000</td>\n",
       "    </tr>\n",
       "    <tr>\n",
       "      <th>25%</th>\n",
       "      <td>0.000000</td>\n",
       "      <td>0.000000</td>\n",
       "    </tr>\n",
       "    <tr>\n",
       "      <th>50%</th>\n",
       "      <td>0.000000</td>\n",
       "      <td>0.000000</td>\n",
       "    </tr>\n",
       "    <tr>\n",
       "      <th>75%</th>\n",
       "      <td>0.000000</td>\n",
       "      <td>2.000000</td>\n",
       "    </tr>\n",
       "    <tr>\n",
       "      <th>max</th>\n",
       "      <td>1317.000000</td>\n",
       "      <td>5818.000000</td>\n",
       "    </tr>\n",
       "  </tbody>\n",
       "</table>\n",
       "</div>"
      ],
      "text/plain": [
       "       retweetCount     likeCount\n",
       "count  18666.000000  18666.000000\n",
       "mean       1.461909      5.325190\n",
       "std       14.927494     58.866758\n",
       "min        0.000000      0.000000\n",
       "25%        0.000000      0.000000\n",
       "50%        0.000000      0.000000\n",
       "75%        0.000000      2.000000\n",
       "max     1317.000000   5818.000000"
      ]
     },
     "execution_count": 12,
     "metadata": {},
     "output_type": "execute_result"
    }
   ],
   "source": [
    "df.toPandas().describe()"
   ]
  },
  {
   "cell_type": "code",
   "execution_count": 14,
   "id": "f2b69d0b",
   "metadata": {
    "scrolled": true
   },
   "outputs": [
    {
     "name": "stderr",
     "output_type": "stream",
     "text": [
      "[Stage 8:=================================================>     (181 + 1) / 200]\r"
     ]
    },
    {
     "name": "stdout",
     "output_type": "stream",
     "text": [
      "+---------------+-----+-----+\n",
      "|Username       |count|%    |\n",
      "+---------------+-----+-----+\n",
      "|FuckBoris_UKGov|3445 |18.46|\n",
      "|bigscrab       |258  |1.38 |\n",
      "|mattyourmate   |178  |0.95 |\n",
      "|gylesnamopaleen|167  |0.89 |\n",
      "|bea_johanssen  |151  |0.81 |\n",
      "|MrLouisB22     |144  |0.77 |\n",
      "|jthomson_john  |135  |0.72 |\n",
      "|IssyMil        |133  |0.71 |\n",
      "|definitivegazer|132  |0.71 |\n",
      "|nialloconghaile|132  |0.71 |\n",
      "|IndigoFast     |115  |0.62 |\n",
      "|WullieHalliday |105  |0.56 |\n",
      "|SeymourStrange |96   |0.51 |\n",
      "|JamieStoddart  |93   |0.5  |\n",
      "|Thewiseman1234 |91   |0.49 |\n",
      "|suastusa       |89   |0.48 |\n",
      "|BtaD42255016   |88   |0.47 |\n",
      "|AlisonHarriso16|88   |0.47 |\n",
      "|johannketel    |87   |0.47 |\n",
      "|White692742    |82   |0.44 |\n",
      "|ConsueloMariaS |77   |0.41 |\n",
      "|0drat          |75   |0.4  |\n",
      "|Skellywag1     |72   |0.39 |\n",
      "|WeeManWiTheFlag|71   |0.38 |\n",
      "|nicsadventure  |69   |0.37 |\n",
      "|Tedii69        |65   |0.35 |\n",
      "|AnnonymousAm   |63   |0.34 |\n",
      "|emackenzie21   |62   |0.33 |\n",
      "|KSmth2000      |61   |0.33 |\n",
      "|NicholNeil     |60   |0.32 |\n",
      "|jimmerfaestoney|60   |0.32 |\n",
      "|arbzoid        |59   |0.32 |\n",
      "|RobertTyreBute |59   |0.32 |\n",
      "|greigburgoyne  |58   |0.31 |\n",
      "|RadioJammor    |54   |0.29 |\n",
      "|GerryFitzsimon5|54   |0.29 |\n",
      "|annemac21776530|53   |0.28 |\n",
      "|Driver4hire1   |53   |0.28 |\n",
      "|dointhebiz1    |52   |0.28 |\n",
      "|RamRajParty    |51   |0.27 |\n",
      "|scottklogie1   |50   |0.27 |\n",
      "|JacquiWilkie2  |50   |0.27 |\n",
      "|IanDePendence  |50   |0.27 |\n",
      "|bahookey4      |50   |0.27 |\n",
      "|HangBlaa       |48   |0.26 |\n",
      "|PantoPolitics22|48   |0.26 |\n",
      "|BuggerCrafty   |48   |0.26 |\n",
      "|sookiesooker   |45   |0.24 |\n",
      "|wj_voice       |45   |0.24 |\n",
      "|Insearchofthet6|44   |0.24 |\n",
      "+---------------+-----+-----+\n",
      "only showing top 50 rows\n",
      "\n"
     ]
    },
    {
     "name": "stderr",
     "output_type": "stream",
     "text": [
      "\r",
      "[Stage 8:====================================================>  (192 + 1) / 200]\r",
      "\r",
      "                                                                                \r"
     ]
    }
   ],
   "source": [
    "import pyspark.sql.functions as func \n",
    "count_user = df.count()\n",
    "\n",
    "# count username\n",
    "df_user = df.groupBy('Username').count()\\\n",
    ".withColumn('%', func.round((func.col('count')/count_user)*100, 2))\\\n",
    ".orderBy('count', ascending=False).show(50, False)\n",
    "\n",
    "df_user"
   ]
  },
  {
   "cell_type": "code",
   "execution_count": 16,
   "id": "e1ed3f1d",
   "metadata": {},
   "outputs": [],
   "source": [
    "from pyspark.sql import SQLContext\n",
    "import seaborn as sns \n",
    "import matplotlib.pyplot as plt\n",
    "\n",
    "df.registerTempTable('tweets')\n",
    "sqlContext = SQLContext(spark)"
   ]
  },
  {
   "cell_type": "code",
   "execution_count": 17,
   "id": "79901fe1",
   "metadata": {},
   "outputs": [
    {
     "name": "stderr",
     "output_type": "stream",
     "text": [
      "                                                                                \r"
     ]
    }
   ],
   "source": [
    "df_users = sqlContext.sql('SELECT username, Count(*) AS count FROM tweets GROUP BY Username ORDER BY 2 DESC LIMIT 10').toPandas()"
   ]
  },
  {
   "cell_type": "code",
   "execution_count": 20,
   "id": "c926a965",
   "metadata": {},
   "outputs": [
    {
     "data": {
      "image/png": "[encoded data removed]",
      "text/plain": [
       "<Figure size 1440x360 with 1 Axes>"
      ]
     },
     "metadata": {},
     "output_type": "display_data"
    }
   ],
   "source": [
    "#plt.show()\n",
    "sns.catplot(data=df_users, x='username', y='count', kind='bar', height=5, aspect=4)\n",
    "#df2.head(10)\n",
    "#sn\n",
    "plt.title(\"Who tweets the most about 'ukgov'?\", fontsize=16);\n",
    "#sns.countplot(df2['offense'], df2['count(1)'])\n",
    "\n",
    "sns.set();\n",
    "sns.set_palette('rainbow');\n",
    "plt.show();"
   ]
  },
  {
   "cell_type": "code",
   "execution_count": 19,
   "id": "4a13c9d1",
   "metadata": {},
   "outputs": [
    {
     "data": {
      "image/png": "[encoded data removed]",
      "text/plain": [
       "<Figure size 1440x360 with 1 Axes>"
      ]
     },
     "metadata": {},
     "output_type": "display_data"
    }
   ],
   "source": [
    "#query\n",
    "df_retweet = sqlContext.sql('SELECT username, retweetCount FROM tweets ORDER BY 2 DESC LIMIT 10').toPandas()\n",
    "\n",
    "#plt.show()\n",
    "sns.catplot(data=df_retweet, x='username', y='retweetCount', kind='bar', height=5, aspect=4)\n",
    "#df2.head(10)\n",
    "#sn\n",
    "plt.title(\"Who gets retweeted the most?\", fontsize=16);\n",
    "#sns.countplot(df2['offense'], df2['count(1)'])\n",
    "\n",
    "sns.set();\n",
    "sns.set_palette('rainbow');\n",
    "plt.show();"
   ]
  },
  {
   "cell_type": "code",
   "execution_count": 167,
   "id": "f164b8f9",
   "metadata": {},
   "outputs": [
    {
     "name": "stderr",
     "output_type": "stream",
     "text": [
      "\r",
      "[Stage 110:>                                                        (0 + 1) / 1]\r",
      "\r",
      "                                                                                \r"
     ]
    },
    {
     "data": {
      "image/png": "[encoded data removed]",
      "text/plain": [
       "<Figure size 1440x360 with 1 Axes>"
      ]
     },
     "metadata": {},
     "output_type": "display_data"
    }
   ],
   "source": [
    "#query\n",
    "\n",
    "df_like = sqlContext.sql('SELECT username, likeCount FROM tweets ORDER BY 2 DESC LIMIT 10').toPandas()\n",
    "\n",
    "#plt.show()\n",
    "sns.catplot(data=df_like, x='username', y='likeCount', kind='bar', height=5, aspect=4)\n",
    "#df2.head(10)\n",
    "#sn\n",
    "plt.title(\"Who gets liked the most?\", fontsize=16);\n",
    "#sns.countplot(df2['offense'], df2['count(1)'])\n",
    "\n",
    "sns.set();\n",
    "sns.set_palette('rainbow');\n",
    "plt.show(); "
   ]
  },
  {
   "cell_type": "code",
   "execution_count": 168,
   "id": "6a2ca822",
   "metadata": {},
   "outputs": [
    {
     "name": "stderr",
     "output_type": "stream",
     "text": [
      "                                                                                \r"
     ]
    },
    {
     "data": {
      "text/plain": [
       "DataFrame[Datetime: string, Tweet ID: string, Text: string, Username: string, retweetCount: bigint, likeCount: bigint, hashtags: string]"
      ]
     },
     "execution_count": 168,
     "metadata": {},
     "output_type": "execute_result"
    }
   ],
   "source": [
    "import pyspark.sql.functions as func \n",
    "count_retweet = df.count()\n",
    "\n",
    "df_retweet = df\n",
    "\n",
    "\n",
    "df_retweet"
   ]
  },
  {
   "cell_type": "code",
   "execution_count": 169,
   "id": "3cb460ed",
   "metadata": {},
   "outputs": [],
   "source": [
    "df= df.dropDuplicates()"
   ]
  },
  {
   "cell_type": "code",
   "execution_count": 170,
   "id": "9f9b4b23",
   "metadata": {},
   "outputs": [
    {
     "name": "stderr",
     "output_type": "stream",
     "text": [
      "                                                                                \r"
     ]
    }
   ],
   "source": [
    "df=df.toPandas()"
   ]
  },
  {
   "cell_type": "code",
   "execution_count": 172,
   "id": "1861bb14",
   "metadata": {},
   "outputs": [],
   "source": [
    "import pickle \n",
    "\n",
    "filename='data/data.pkl'\n",
    "\n",
    "outfile = open(filename, 'wb')\n",
    "\n",
    "pickle.dump(df, outfile)\n",
    "\n",
    "outfile.close()"
   ]
  },
  {
   "cell_type": "code",
   "execution_count": 173,
   "id": "43317a86",
   "metadata": {},
   "outputs": [],
   "source": [
    "infile=open(filename, 'rb')\n",
    "df_new = pickle.load(infile)\n",
    "infile.close()"
   ]
  },
  {
   "cell_type": "code",
   "execution_count": 175,
   "id": "9b097da6",
   "metadata": {},
   "outputs": [
    {
     "data": {
      "text/plain": [
       "'1.5.0'"
      ]
     },
     "execution_count": 175,
     "metadata": {},
     "output_type": "execute_result"
    }
   ],
   "source": [
    "pd.__version__"
   ]
  },
  {
   "cell_type": "code",
   "execution_count": 174,
   "id": "b210e9b1",
   "metadata": {},
   "outputs": [
    {
     "data": {
      "text/html": [
       "<div>\n",
       "<style scoped>\n",
       "    .dataframe tbody tr th:only-of-type {\n",
       "        vertical-align: middle;\n",
       "    }\n",
       "\n",
       "    .dataframe tbody tr th {\n",
       "        vertical-align: top;\n",
       "    }\n",
       "\n",
       "    .dataframe thead th {\n",
       "        text-align: right;\n",
       "    }\n",
       "</style>\n",
       "<table border=\"1\" class=\"dataframe\">\n",
       "  <thead>\n",
       "    <tr style=\"text-align: right;\">\n",
       "      <th></th>\n",
       "      <th>Datetime</th>\n",
       "      <th>Tweet ID</th>\n",
       "      <th>Text</th>\n",
       "      <th>Username</th>\n",
       "      <th>retweetCount</th>\n",
       "      <th>likeCount</th>\n",
       "      <th>hashtags</th>\n",
       "    </tr>\n",
       "  </thead>\n",
       "  <tbody>\n",
       "    <tr>\n",
       "      <th>0</th>\n",
       "      <td>2021-10-22 10:08:21+00:00</td>\n",
       "      <td>1451490603766886402</td>\n",
       "      <td>Missed our recent webinar with partners Social...</td>\n",
       "      <td>AdviceGov</td>\n",
       "      <td>0</td>\n",
       "      <td>0</td>\n",
       "      <td>['SocialValue', 'Gov', 'Procurement', 'PublicS...</td>\n",
       "    </tr>\n",
       "    <tr>\n",
       "      <th>1</th>\n",
       "      <td>2021-10-26 16:29:15+00:00</td>\n",
       "      <td>1453036010149978115</td>\n",
       "      <td>@DavidPa80122564 I think the ukgov are afraid ...</td>\n",
       "      <td>gylesnamopaleen</td>\n",
       "      <td>0</td>\n",
       "      <td>1</td>\n",
       "      <td>['brexit']</td>\n",
       "    </tr>\n",
       "    <tr>\n",
       "      <th>2</th>\n",
       "      <td>2021-10-29 23:23:59+00:00</td>\n",
       "      <td>1454227542680948738</td>\n",
       "      <td>@TerrorismPolice The irony...#UKGov know most ...</td>\n",
       "      <td>KSmth2000</td>\n",
       "      <td>0</td>\n",
       "      <td>0</td>\n",
       "      <td>['UKGov', 'UKGovAndTheirIllegalProxywars']</td>\n",
       "    </tr>\n",
       "    <tr>\n",
       "      <th>3</th>\n",
       "      <td>2021-11-01 14:35:47+00:00</td>\n",
       "      <td>1455181783377629197</td>\n",
       "      <td>The UKGov report implies any therapy which isn...</td>\n",
       "      <td>luluskip2malu</td>\n",
       "      <td>1</td>\n",
       "      <td>1</td>\n",
       "      <td></td>\n",
       "    </tr>\n",
       "    <tr>\n",
       "      <th>4</th>\n",
       "      <td>2021-11-02 18:57:34+00:00</td>\n",
       "      <td>1455610051608162312</td>\n",
       "      <td>@flodwyns @BlokeOnWheels @SandraDunn1955 The o...</td>\n",
       "      <td>jimmerfaestoney</td>\n",
       "      <td>0</td>\n",
       "      <td>0</td>\n",
       "      <td></td>\n",
       "    </tr>\n",
       "  </tbody>\n",
       "</table>\n",
       "</div>"
      ],
      "text/plain": [
       "                    Datetime             Tweet ID  \\\n",
       "0  2021-10-22 10:08:21+00:00  1451490603766886402   \n",
       "1  2021-10-26 16:29:15+00:00  1453036010149978115   \n",
       "2  2021-10-29 23:23:59+00:00  1454227542680948738   \n",
       "3  2021-11-01 14:35:47+00:00  1455181783377629197   \n",
       "4  2021-11-02 18:57:34+00:00  1455610051608162312   \n",
       "\n",
       "                                                Text         Username  \\\n",
       "0  Missed our recent webinar with partners Social...        AdviceGov   \n",
       "1  @DavidPa80122564 I think the ukgov are afraid ...  gylesnamopaleen   \n",
       "2  @TerrorismPolice The irony...#UKGov know most ...        KSmth2000   \n",
       "3  The UKGov report implies any therapy which isn...    luluskip2malu   \n",
       "4  @flodwyns @BlokeOnWheels @SandraDunn1955 The o...  jimmerfaestoney   \n",
       "\n",
       "   retweetCount  likeCount                                           hashtags  \n",
       "0             0          0  ['SocialValue', 'Gov', 'Procurement', 'PublicS...  \n",
       "1             0          1                                         ['brexit']  \n",
       "2             0          0         ['UKGov', 'UKGovAndTheirIllegalProxywars']  \n",
       "3             1          1                                                     \n",
       "4             0          0                                                     "
      ]
     },
     "execution_count": 174,
     "metadata": {},
     "output_type": "execute_result"
    }
   ],
   "source": [
    "df_new.head(5)"
   ]
  },
  {
   "cell_type": "code",
   "execution_count": null,
   "id": "3cc51fdd",
   "metadata": {},
   "outputs": [],
   "source": []
  }
 ],
 "metadata": {
  "kernelspec": {
   "display_name": "Python 3 (ipykernel)",
   "language": "python",
   "name": "python3"
  },
  "language_info": {
   "codemirror_mode": {
    "name": "ipython",
    "version": 3
   },
   "file_extension": ".py",
   "mimetype": "text/x-python",
   "name": "python",
   "nbconvert_exporter": "python",
   "pygments_lexer": "ipython3",
   "version": "3.10.6"
  }
 },
 "nbformat": 4,
 "nbformat_minor": 5
}
